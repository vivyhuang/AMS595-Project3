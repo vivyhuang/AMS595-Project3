{
 "cells": [
  {
   "cell_type": "markdown",
   "metadata": {
    "id": "xq__bChjD04e"
   },
   "source": [
    "# Python Assignment 3"
   ]
  },
  {
   "cell_type": "markdown",
   "metadata": {
    "id": "y7j2V0UDMYLG"
   },
   "source": [
    "⏱⏱⏱**Due: 11/02/2023 11:59 PM** ⏱⏱⏱\n",
    "\n",
    "Please submit your notebook files and upload them to your Git repository. Don't forget to include a link to your Git repository when submitting this file on Brightspace. **Please include all outputs in your notebook, including plots, printouts, etc..**\n",
    "\n",
    "Collaboration is permitted and encouraged; however, it's essential to independently produce and submit your own work. If you collaborate with others, please ensure that you provide their names in the designated section.\n",
    "\n",
    "Collaborators:_____"
   ]
  },
  {
   "cell_type": "markdown",
   "metadata": {
    "id": "SUS30Ew9D04n"
   },
   "source": [
    "##**For Questions 2a and 2b, you can choose one of them to complete, if you completed both, only Questions 2a will be graded.**\n",
    "\n",
    "**This assignment is out of 150 points; surplus points can be applied to other assignments (including Matlab and C/C++). However, it cannot be applied to your final project grade, and your assignment grade will not excced 75% of your total grade.**"
   ]
  },
  {
   "cell_type": "markdown",
   "metadata": {
    "id": "KR0Fl4yAQYad"
   },
   "source": [
    "## 1. Good presentation of your code and outputs; submitting your files to Github (10 pts)"
   ]
  },
  {
   "cell_type": "markdown",
   "metadata": {
    "id": "9WPZWhYQkptT"
   },
   "source": [
    "Ensure thorough and clear comments within your code to explain its functionality.\n",
    "\n",
    "Enhance your plots by adding titles, legends, and axis labels where appropriate to provide clarity.\n",
    "\n",
    "If necessary, employ LaTex notation to present mathematical explanations within the notebook.\n",
    "\n",
    "Divide your code into multiple blocks or cells in Jupyter Notebook and provide descriptive explanations for each block to improve readability.\n",
    "\n",
    "As part of your submission, **include the notebook files and upload them to your Git repository. Additionally, remember to provide a link to your Git repository when submitting the files on Brightspace.** Do not submit a compressed file (.rar, .zip, etc..), submit files separately.\n",
    "\n",
    "If you are tasked with implementing a numerical algorithm, it is expected that you would not rely on pre-existing methods. For example, if you were asked to solve $Ax=b$, you should write your own program to solve, not just by calling numpy.linalg.solve.\n",
    "\n"
   ]
  },
  {
   "cell_type": "markdown",
   "metadata": {
    "id": "U5SL2j0sqnAJ"
   },
   "source": [
    "## 2a. Numerical Integration (30 pts)"
   ]
  },
  {
   "cell_type": "markdown",
   "metadata": {
    "id": "OxwdE468rNAR"
   },
   "source": [
    "For a domain discretized into $N$ equally spaced panels:\n",
    "$$\n",
    "\\Delta x=\\frac{b-a}{N}.\n",
    "$$\n",
    "The approximation to the integral is\n",
    "$$\\begin{aligned}\n",
    "\\int_a^b f(x) d x & \\approx \\frac{\\Delta x}{2} \\sum_{k=1}^N\\left(f\\left(x_{k-1}\\right)+f\\left(x_k\\right)\\right) \\\\\n",
    "& =\\frac{\\Delta x}{2}\\left(f\\left(x_0\\right)+2 f\\left(x_1\\right)+2 f\\left(x_2\\right)+2 f\\left(x_3\\right)+\\cdots+2 f\\left(x_{N-1}\\right)+f\\left(x_N\\right)\\right) \\\\\n",
    "& =\\Delta x\\left(\\sum_{k=1}^{N-1} f\\left(x_k\\right)+\\frac{f\\left(x_N\\right)+f\\left(x_0\\right)}{2}\\right) .\n",
    "\\end{aligned}$$\n",
    "This is the trapezoid rule scheme.\n",
    "\n",
    "\n",
    "Given the function $f(x) = 3x^2 + 2x +2$, your tasks are:\n",
    "\n",
    "1. Carry out the integration symbolically using the SymPy library. Output the result (i.e. print out the result).\n",
    "2. Implement the trapezoid rule to estimate the integral $\\int_{-4}^6 f(x) dx$ using the following values of $N = 10, 20, 40, 80, 160, 320, 640, 1280$. Output the results (i.e. print out the results).\n",
    "3. Plot the absolute error (absolute difference between the numerical approximation and the SymPy result) against N.\n",
    "\n",
    "\n",
    "\n"
   ]
  },
  {
   "cell_type": "code",
   "execution_count": 1,
   "metadata": {},
   "outputs": [
    {
     "data": {
      "text/latex": [
       "$\\displaystyle 3 x^{2} + 2 x + 2$"
      ],
      "text/plain": [
       "3*x**2 + 2*x + 2"
      ]
     },
     "execution_count": 1,
     "metadata": {},
     "output_type": "execute_result"
    }
   ],
   "source": [
    "from sympy import *\n",
    "import matplotlib.pyplot as plt\n",
    "\n",
    "x = Symbol('x')\n",
    "f = 3*x**2 + 2*x + 2\n",
    "f # Output result"
   ]
  },
  {
   "cell_type": "code",
   "execution_count": 2,
   "metadata": {},
   "outputs": [
    {
     "name": "stdout",
     "output_type": "stream",
     "text": [
      "3*x**2 + 2*x + 2\n",
      "The true value of the integration is 320.\n",
      "N: 10, Approximation: 325.000000000000, Error: 5.00000000000000\n",
      "N: 20, Approximation: 321.250000000000, Error: 1.25000000000000\n",
      "N: 40, Approximation: 320.312500000000, Error: 0.312500000000000\n",
      "N: 80, Approximation: 320.078125000000, Error: 0.0781250000000000\n",
      "N: 160, Approximation: 320.019531250000, Error: 0.0195312500000000\n",
      "N: 320, Approximation: 320.004882812500, Error: 0.00488281250000000\n",
      "N: 640, Approximation: 320.001220703125, Error: 0.00122070312500000\n",
      "N: 1280, Approximation: 320.000305175781, Error: 0.000305175781250000\n"
     ]
    },
    {
     "data": {
      "image/png": "[encoded data removed]",
      "text/plain": [
       "<Figure size 432x288 with 1 Axes>"
      ]
     },
     "metadata": {
      "needs_background": "light"
     },
     "output_type": "display_data"
    }
   ],
   "source": [
    "print(f) # Output result again\n",
    "\n",
    "N = [10, 20, 40, 80, 160, 320, 640, 1280]  # Array of N values\n",
    "results = []  # Store results of the trapezoidal approximations\n",
    "\n",
    "actual = integrate(f, (x, -4, 6))  # actual value of integral\n",
    "print(f\"The true value of the integration is {actual}.\")\n",
    "\n",
    "# Trapezoid rule scheme for each value of N\n",
    "for i in range(len(N)):\n",
    "    i = N[i]\n",
    "    delta_x = 10/i\n",
    "    approx = delta_x * ((Sum((f.subs(x, (-4 + (delta_x * x)))), (x, 1, i - 1)).evalf()) + (((f.subs(x, -4)) + f.subs(x, 6)) * 0.5))\n",
    "    results.append(approx)\n",
    "\n",
    "# array of the absolute errors for N values\n",
    "error = [abs(k - actual) for k in results]\n",
    "\n",
    "# Print the N value, trapezoidal approximation, and the absolute difference\n",
    "for i in range(len(N)):\n",
    "    print(f\"N: {N[i]}, Approximation: {results[i]}, Error: {error[i]}\")\n",
    "\n",
    "# Plot the absolute error. against N\n",
    "plt.plot(N, error)\n",
    "plt.xlabel('N')\n",
    "plt.ylabel('Absolute Error')\n",
    "plt.title('Absolute Error Against N')\n",
    "plt.show()"
   ]
  },
  {
   "cell_type": "markdown",
   "metadata": {
    "id": "uzMa1xSEwhe3"
   },
   "source": [
    "## 2b. Numerical Differentiation (30 pts)"
   ]
  },
  {
   "cell_type": "markdown",
   "metadata": {
    "id": "FoA2lb0VxDk4"
   },
   "source": [
    "Your tasks:\n",
    "1. Find the closed form expression of $f_{xy}(x,y)$, i.e. $\\frac{d^2}{dxdy}f(x,y)$, for $f(x,y) = \\left(sin^2\\left(x\\right)e^xcos(y)\\right)$ using `sympy`. Output the result.\n",
    "2. Find $f_{xy}(2,3)$ with `sympy` and take 15 significant digits, use it as the \"groud truth solution\". Output the result.\n",
    "3. Approximate $f_{xy}(2,3)$ using central difference approximation for the following values of $h = 0.1, 0.01, 0.001, 0.0001$. Output the results.\n",
    "4. Plot the absolute error (absolute difference between the numerical approximation and the SymPy result) against the step size $h$. `plt.gca().invert_xaxis() ` might help.\n",
    "\n",
    "Recall from the lecture:\n",
    "$$f_{x y}(x, y) \\approx \\frac{f(x+h, y+k)-f(x+h, y-k)-f(x-h, y+k)+f(x-h, y-k)}{4 h k}.$$\n",
    "For simplicity, we set $k = h$."
   ]
  },
  {
   "cell_type": "markdown",
   "metadata": {
    "id": "aCgIDqeLBPjj"
   },
   "source": [
    "## 3. Pandas I (15 pts)"
   ]
  },
  {
   "cell_type": "markdown",
   "metadata": {
    "id": "O1w1avrtBYD5"
   },
   "source": [
    "1. Create a 3x4 (3 rows by 4 columns) pandas DataFrame with the columns named after the following Long Island towns: Hempstead, Babylon, Islip, and Brookhaven. The rows represent 'Population in 2099', 'Population in 2300', 'Population in 2400'. Fill each of the 12 cells in the DataFrame with a random integer from 1000 to 10000, inclusive. `np.random.randint()` might be helpful.\n",
    "For Example:\n",
    "\n",
    "```\n",
    "                    Hempstead  Babylon  Islip  Brookhaven\n",
    "Population in 2099       2931     8043   8414        8661\n",
    "Population in 2300       5444     9227   7393        8007\n",
    "Population in 2400       1660     7977   4730        2940\n",
    "```\n",
    "\n",
    "\n",
    "\n",
    "2. Output the following:\n",
    "  - The entire DataFrame.\n",
    "  - The value in the cell of row #1 (indexing starts with 0) under the Hempstead column.\n",
    "\n",
    "3. Add a new column named Riverhead. Populate this column with the sum of the respective row values from the Islip and Brookhaven columns. Output the entire DataFrame again."
   ]
  },
  {
   "cell_type": "code",
   "execution_count": 3,
   "metadata": {},
   "outputs": [
    {
     "name": "stdout",
     "output_type": "stream",
     "text": [
      "                    Hempstead  Babylon  Islip  Brookhaven\n",
      "Population in 2099       7612     6632   4708        2226\n",
      "Population in 2300       1313     2379   5884        6573\n",
      "Population in 2400       1086     6550   8234        7697\n",
      "1313\n"
     ]
    }
   ],
   "source": [
    "import numpy as np\n",
    "import pandas as pd\n",
    "\n",
    "towns = [\"Hempstead\", \"Babylon\", \"Islip\", \"Brookhaven\"] # Column names of DataFrame\n",
    "rows = [\"Population in 2099\", \"Population in 2300\", \"Population in 2400\"] # Row names of DataFrame\n",
    "population = np.random.randint(1000, 10001, size = (3,4)) # matrix of random integers\n",
    "\n",
    "df = pd.DataFrame(population)\n",
    "df.columns = towns\n",
    "df.index = rows\n",
    "\n",
    "print(df) # Print entire DataFrame\n",
    "\n",
    "print(df[\"Hempstead\"][1]) # The value in the cell of row #1 under the Hempstead column"
   ]
  },
  {
   "cell_type": "markdown",
   "metadata": {
    "id": "WqHDjQC-KLjo"
   },
   "source": [
    "## 4. Pandas II (15 pts)"
   ]
  },
  {
   "cell_type": "markdown",
   "metadata": {
    "id": "w6kHh8BENzHk"
   },
   "source": [
    "0. Download the cvs file that comes with this assignment, and read it into a dataframe. You can also download this [csv file](https://media.githubusercontent.com/media/datablist/sample-csv-files/main/files/customers/customers-100.csv) with this link.\n",
    "1. Arrange the data in alphabetical order based on the last name. Display the first few rows.\n",
    "2. Count the number of customers whose subscription date is in 2021 (2021-01-01 to 2021-12-31). Report this number (e.g. print)."
   ]
  },
  {
   "cell_type": "code",
   "execution_count": 4,
   "metadata": {},
   "outputs": [
    {
     "data": {
      "text/html": [
       "<div>\n",
       "<style scoped>\n",
       "    .dataframe tbody tr th:only-of-type {\n",
       "        vertical-align: middle;\n",
       "    }\n",
       "\n",
       "    .dataframe tbody tr th {\n",
       "        vertical-align: top;\n",
       "    }\n",
       "\n",
       "    .dataframe thead th {\n",
       "        text-align: right;\n",
       "    }\n",
       "</style>\n",
       "<table border=\"1\" class=\"dataframe\">\n",
       "  <thead>\n",
       "    <tr style=\"text-align: right;\">\n",
       "      <th></th>\n",
       "      <th>Index</th>\n",
       "      <th>Customer Id</th>\n",
       "      <th>First Name</th>\n",
       "      <th>Last Name</th>\n",
       "      <th>Company</th>\n",
       "      <th>City</th>\n",
       "      <th>Country</th>\n",
       "      <th>Phone 1</th>\n",
       "      <th>Phone 2</th>\n",
       "      <th>Email</th>\n",
       "      <th>Subscription Date</th>\n",
       "      <th>Website</th>\n",
       "    </tr>\n",
       "  </thead>\n",
       "  <tbody>\n",
       "    <tr>\n",
       "      <th>67</th>\n",
       "      <td>68</td>\n",
       "      <td>a014Ec1b9FccC1E</td>\n",
       "      <td>Tom</td>\n",
       "      <td>Alvarado</td>\n",
       "      <td>Donaldson-Dougherty</td>\n",
       "      <td>South Sophiaberg</td>\n",
       "      <td>Kiribati</td>\n",
       "      <td>(585)606-2980x2258</td>\n",
       "      <td>730-797-3594x5614</td>\n",
       "      <td>nicholsonnina@montgomery.info</td>\n",
       "      <td>2020-08-18</td>\n",
       "      <td>http://odom-massey.com/</td>\n",
       "    </tr>\n",
       "    <tr>\n",
       "      <th>96</th>\n",
       "      <td>97</td>\n",
       "      <td>CeD220bdAaCfaDf</td>\n",
       "      <td>Lynn</td>\n",
       "      <td>Atkinson</td>\n",
       "      <td>Ware, Burns and Oneal</td>\n",
       "      <td>New Bradview</td>\n",
       "      <td>Sri Lanka</td>\n",
       "      <td>+1-846-706-2218</td>\n",
       "      <td>605.413.3198</td>\n",
       "      <td>vkemp@ferrell.com</td>\n",
       "      <td>2021-07-10</td>\n",
       "      <td>https://novak-allison.com/</td>\n",
       "    </tr>\n",
       "    <tr>\n",
       "      <th>92</th>\n",
       "      <td>93</td>\n",
       "      <td>aAb6AFc7AfD0fF3</td>\n",
       "      <td>Collin</td>\n",
       "      <td>Ayers</td>\n",
       "      <td>Lamb-Peterson</td>\n",
       "      <td>South Lonnie</td>\n",
       "      <td>Anguilla</td>\n",
       "      <td>404-645-5351x012</td>\n",
       "      <td>001-257-582-8850x8516</td>\n",
       "      <td>dudleyemily@gonzales.biz</td>\n",
       "      <td>2021-06-29</td>\n",
       "      <td>http://www.ruiz.com/</td>\n",
       "    </tr>\n",
       "    <tr>\n",
       "      <th>0</th>\n",
       "      <td>1</td>\n",
       "      <td>DD37Cf93aecA6Dc</td>\n",
       "      <td>Sheryl</td>\n",
       "      <td>Baxter</td>\n",
       "      <td>Rasmussen Group</td>\n",
       "      <td>East Leonard</td>\n",
       "      <td>Chile</td>\n",
       "      <td>229.077.5154</td>\n",
       "      <td>397.884.0519x718</td>\n",
       "      <td>zunigavanessa@smith.info</td>\n",
       "      <td>2020-08-24</td>\n",
       "      <td>http://www.stephenson.com/</td>\n",
       "    </tr>\n",
       "    <tr>\n",
       "      <th>15</th>\n",
       "      <td>16</td>\n",
       "      <td>8cad0b4CBceaeec</td>\n",
       "      <td>Miranda</td>\n",
       "      <td>Beasley</td>\n",
       "      <td>Singleton and Sons</td>\n",
       "      <td>Desireeshire</td>\n",
       "      <td>Oman</td>\n",
       "      <td>540.085.3135x185</td>\n",
       "      <td>+1-600-462-6432x21881</td>\n",
       "      <td>vduncan@parks-hardy.com</td>\n",
       "      <td>2022-04-12</td>\n",
       "      <td>http://acosta.org/</td>\n",
       "    </tr>\n",
       "  </tbody>\n",
       "</table>\n",
       "</div>"
      ],
      "text/plain": [
       "    Index      Customer Id First Name Last Name                Company  \\\n",
       "67     68  a014Ec1b9FccC1E        Tom  Alvarado    Donaldson-Dougherty   \n",
       "96     97  CeD220bdAaCfaDf       Lynn  Atkinson  Ware, Burns and Oneal   \n",
       "92     93  aAb6AFc7AfD0fF3     Collin     Ayers          Lamb-Peterson   \n",
       "0       1  DD37Cf93aecA6Dc     Sheryl    Baxter        Rasmussen Group   \n",
       "15     16  8cad0b4CBceaeec    Miranda   Beasley     Singleton and Sons   \n",
       "\n",
       "                City    Country             Phone 1                Phone 2  \\\n",
       "67  South Sophiaberg   Kiribati  (585)606-2980x2258      730-797-3594x5614   \n",
       "96      New Bradview  Sri Lanka     +1-846-706-2218           605.413.3198   \n",
       "92      South Lonnie   Anguilla    404-645-5351x012  001-257-582-8850x8516   \n",
       "0       East Leonard      Chile        229.077.5154       397.884.0519x718   \n",
       "15      Desireeshire       Oman    540.085.3135x185  +1-600-462-6432x21881   \n",
       "\n",
       "                            Email Subscription Date  \\\n",
       "67  nicholsonnina@montgomery.info        2020-08-18   \n",
       "96              vkemp@ferrell.com        2021-07-10   \n",
       "92       dudleyemily@gonzales.biz        2021-06-29   \n",
       "0        zunigavanessa@smith.info        2020-08-24   \n",
       "15        vduncan@parks-hardy.com        2022-04-12   \n",
       "\n",
       "                       Website  \n",
       "67     http://odom-massey.com/  \n",
       "96  https://novak-allison.com/  \n",
       "92        http://www.ruiz.com/  \n",
       "0   http://www.stephenson.com/  \n",
       "15          http://acosta.org/  "
      ]
     },
     "execution_count": 4,
     "metadata": {},
     "output_type": "execute_result"
    }
   ],
   "source": [
    "# Turn the csv file into a DataFrame\n",
    "df = pd.read_csv(\"https://media.githubusercontent.com/media/datablist/sample-csv-files/main/files/customers/customers-100.csv\")\n",
    "\n",
    "# Display of the first few rows\n",
    "df.sort_values('Last Name').head()"
   ]
  },
  {
   "cell_type": "code",
   "execution_count": 5,
   "metadata": {},
   "outputs": [
    {
     "data": {
      "text/plain": [
       "43"
      ]
     },
     "execution_count": 5,
     "metadata": {},
     "output_type": "execute_result"
    }
   ],
   "source": [
    "# number of customers whose subscription date is in 2021\n",
    "df[(df['Subscription Date'] > '2020-12-31') & (df['Subscription Date'] < '2022-01-01')].shape[0]"
   ]
  },
  {
   "cell_type": "markdown",
   "metadata": {
    "id": "aBpXtK8VvApb"
   },
   "source": [
    "## 5. LU decomposition (50 + 30 pts)\n"
   ]
  },
  {
   "cell_type": "markdown",
   "metadata": {
    "id": "ryafNieevrgZ"
   },
   "source": [
    "Part A (50 points)\n",
    "1. Write a function `LUdecomposition()` that takes as input a matrix $A\\in \\mathbb{R}^{n \\times n}$. Perform Gaussian Elimination to have this function return two matrices $L$ and $U$ such that $A=LU$.\n",
    "2. Your function should raise any relevant errors, for example, raise an error if a pure LU decomposition does not exist for $A$ (meaning that you have to perform pivoting, i.e., permutation of rows).\n",
    "3. Create several random matrices for the purpose of testing your function. Obtain the $L$ and $U$ matrices, and for each random matrix obtain its L and U matrices and perform a matrix multiplication (`np.matmul()`) to determine whether the outcome closely resembles the original matrix $A$, allowing for slight differences attributable to precision errors.\n",
    "\n",
    "\n",
    "Note: LU decomposition with Gaussian elimination should be covered in your undergraduate linear algebra class. It is also covered in AMS 510. If you do not know how, this 10 minute [video](https://www.youtube.com/watch?v=UlWcofkUDDU&ab_channel=Mathispower4u) explains it very well.\n",
    "\n",
    "Part B (30 bonus points)\n",
    "4. Not all square matrices have a pure LU decomposition. However, PLU decomposition always exists. Write another function `pivoting()` that takes as input a matrix $A$ and return the permutation/pivoting matrix $P$ such that $PA$ always has a pure LU decomposition.\n",
    "5. Find an example $A$ for which `LUdecomposition()` raises an error. Then, use `pivoting()` to find $P$, and find the pure LU decomposition of $PA$. Verify that indeed $PA = LU$ with matrix multiplication (`np.matmul()`).\n",
    "\n",
    "\n",
    "Hint: Please do not print out a giant matrix and visually examine the outcomes. Think of a way to verify your results and output a boolean value.\n"
   ]
  },
  {
   "cell_type": "markdown",
   "metadata": {
    "id": "QlP_giLsQRPM"
   },
   "source": [
    "Fact: LU and PLU decompositions are not unique."
   ]
  },
  {
   "cell_type": "code",
   "execution_count": 6,
   "metadata": {},
   "outputs": [
    {
     "name": "stdout",
     "output_type": "stream",
     "text": [
      "Matrix A :\n",
      "[[0.92153657 0.75881914 0.16483797]\n",
      " [0.2477028  0.06240461 0.58298262]\n",
      " [0.29842181 0.24179479 0.43787407]]\n",
      "Matrix L :\n",
      "[[1.         0.         0.        ]\n",
      " [0.26879323 1.         0.        ]\n",
      " [0.32383068 0.02779106 1.        ]]\n",
      "Matrix U :\n",
      "[[ 9.21536575e-01  7.58819136e-01  1.64837966e-01]\n",
      " [-2.77555756e-17 -1.41560835e-01  5.38675292e-01]\n",
      " [ 0.00000000e+00  0.00000000e+00  3.69524125e-01]]\n",
      "LU :\n",
      "[[0.92153657 0.75881914 0.16483797]\n",
      " [0.2477028  0.06240461 0.58298262]\n",
      " [0.29842181 0.24179479 0.43787407]]\n",
      "Do A and LU closely resemble each other? True\n",
      "Matrix A :\n",
      "[[0.12284697 0.47116376 0.76107202]\n",
      " [0.98771039 0.37219105 0.79187311]\n",
      " [0.5456683  0.25453243 0.8146552 ]]\n",
      "Matrix L :\n",
      "[[1.         0.         0.        ]\n",
      " [8.04016868 1.         0.        ]\n",
      " [4.44185384 0.53813931 1.        ]]\n",
      "Matrix U :\n",
      "[[ 1.22846974e-01  4.71163756e-01  7.61072020e-01]\n",
      " [-1.11022302e-16 -3.41604501e+00 -5.32727430e+00]\n",
      " [ 0.00000000e+00  0.00000000e+00  3.00900237e-01]]\n",
      "LU :\n",
      "[[0.12284697 0.47116376 0.76107202]\n",
      " [0.98771039 0.37219105 0.79187311]\n",
      " [0.5456683  0.25453243 0.8146552 ]]\n",
      "Do A and LU closely resemble each other? True\n",
      "Matrix A :\n",
      "[[0.08781488 0.26936092 0.19922414]\n",
      " [0.83805619 0.89391331 0.30038405]\n",
      " [0.50212614 0.03857258 0.64885682]]\n",
      "Matrix L :\n",
      "[[1.         0.         0.        ]\n",
      " [9.54344139 1.         0.        ]\n",
      " [5.7180073  0.89558062 1.        ]]\n",
      "Matrix U :\n",
      "[[ 0.08781488  0.26936092  0.19922414]\n",
      " [ 0.         -1.67671688 -1.60089986]\n",
      " [ 0.          0.          0.94342662]]\n",
      "LU :\n",
      "[[0.08781488 0.26936092 0.19922414]\n",
      " [0.83805619 0.89391331 0.30038405]\n",
      " [0.50212614 0.03857258 0.64885682]]\n",
      "Do A and LU closely resemble each other? True\n",
      "[[0.14432272 0.48571012 0.38436305 0.2576072 ]\n",
      " [0.57330984 0.70876394 0.06162439 0.39059958]\n",
      " [0.11895243 0.1027211  0.42604677 0.80750837]] has an error: This matrix is not a square matrix.\n",
      "[[1. 2. 3.]\n",
      " [2. 4. 5.]\n",
      " [1. 3. 4.]] has an error: Pure LU decomposition is not possible. Perform row permutations (pivoting).\n"
     ]
    }
   ],
   "source": [
    "# PART A\n",
    "\n",
    "import numpy as np\n",
    "\n",
    "tol=1e-8  # tolerance\n",
    "\n",
    "def LUdecomposition(A):\n",
    "    n = A.shape[0]\n",
    "    L = np.identity(n)\n",
    "    U = np.copy(A)\n",
    "\n",
    "    # Number of columns and rows are different\n",
    "    if A.shape[0] != A.shape[1]: \n",
    "        raise ValueError(\"This matrix is not a square matrix.\")\n",
    "\n",
    "        \n",
    "    for k in range(n):\n",
    "        # Diagonals start with a zero or almost zero number \n",
    "        if abs(U[k, k]) < tol:\n",
    "            raise ValueError(\"Pure LU decomposition is not possible. Perform row permutations (pivoting).\")\n",
    "            \n",
    "        # Performing LU Decomposition\n",
    "        for i in range(k+1, n):\n",
    "            factor = U[i, k] / U[k, k]\n",
    "            L[i, k] = factor\n",
    "            U[i, k:] -= factor * U[k, k:]\n",
    "\n",
    "    return L, U\n",
    "\n",
    "# Random matrices\n",
    "a1 = np.random.rand(3, 3)\n",
    "a2 = np.random.rand(3, 3)\n",
    "a3 = np.random.rand(3, 3)\n",
    "\n",
    "# Matrices that would raises errors\n",
    "a4 = np.random.rand(3, 4)\n",
    "a5 = np.array([[1, 2, 3],[2, 4, 5],[1, 3, 4]], dtype = float)\n",
    "\n",
    "# Testing the matrices\n",
    "A = [a1, a2, a3, a4, a5]\n",
    "\n",
    "for test in A:\n",
    "    try:\n",
    "        L, U = LUdecomposition(test)\n",
    "        LU = np.matmul(L, U)\n",
    "        truth = np.allclose(test, LU, tol)\n",
    "        \n",
    "        # Printing results\n",
    "        print(f\"Matrix A :\\n{test}\")\n",
    "        print(f\"Matrix L :\\n{L}\")\n",
    "        print(f\"Matrix U :\\n{U}\")\n",
    "        print(f\"LU :\\n{LU}\")\n",
    "        print(f\"Do A and LU closely resemble each other? {truth}\")\n",
    "    \n",
    "    # Printing errors\n",
    "    except ValueError as E:\n",
    "        print(f\"{test} has an error: {E}\")"
   ]
  },
  {
   "cell_type": "code",
   "execution_count": 7,
   "metadata": {},
   "outputs": [
    {
     "name": "stdout",
     "output_type": "stream",
     "text": [
      "[[ 0  2  1]\n",
      " [ 2  2  3]\n",
      " [ 4 -3  0]] has an error: Pure LU decomposition is not possible. Perform row permutations (pivoting).\n",
      "Matrix P :\n",
      "[[0. 0. 1.]\n",
      " [1. 0. 0.]\n",
      " [0. 1. 0.]]\n",
      "Matrix L :\n",
      "[[1.   0.   0.  ]\n",
      " [0.   1.   0.  ]\n",
      " [0.5  1.75 1.  ]]\n",
      "Matrix U :\n",
      "[[ 4.   -3.    0.  ]\n",
      " [ 0.    2.    1.  ]\n",
      " [ 0.    0.    1.25]]\n",
      "LU :\n",
      "[[ 4. -3.  0.]\n",
      " [ 0.  2.  1.]\n",
      " [ 2.  2.  3.]]\n",
      "Does PA = LU? True\n"
     ]
    }
   ],
   "source": [
    "# PART B\n",
    "\n",
    "import numpy as np\n",
    "\n",
    "def pivoting(A):\n",
    "    n = A.shape[0]\n",
    "    P = np.identity(n)\n",
    "\n",
    "    # Pivoting\n",
    "    for c in range(n):\n",
    "        r = np.argmax((abs(A[c:, c]))) + c\n",
    "        if r != c:\n",
    "            P[[c,r]] = P[[r,c]]\n",
    "\n",
    "    return P\n",
    "\n",
    "# Errored Test Matrix \n",
    "A_error = np.array([[0, 2, 1], [2, 2, 3], [4, -3, 0]])\n",
    "\n",
    "# Showing results to ensure error (from Part A)\n",
    "try:\n",
    "    L, U = LUdecomposition(A_error)\n",
    "    LU = np.matmul(L, U)\n",
    "    truth = np.allclose(test, LU, tol)\n",
    "        \n",
    "    print(f\"Matrix A :\\n{A_error}\")\n",
    "    print(f\"Matrix L :\\n{L}\")\n",
    "    print(f\"Matrix U :\\n{U}\")\n",
    "    print(f\"LU :\\n{LU}\")\n",
    "    print(f\"Do A and LU closely resemble each other? {truth}\")\n",
    "        \n",
    "except ValueError as E:\n",
    "    print(f\"{A_error} has an error: {E}\")\n",
    "\n",
    "# Finding P of test matrix\n",
    "P = pivoting(A_error)\n",
    "PA = np.matmul(P, A_error)\n",
    "L1, U1 = LUdecomposition(PA)\n",
    "LU1 = np.matmul(L1, U1)\n",
    "verify = np.allclose(PA, LU1, tol)\n",
    "\n",
    "# Printing P, L, U, and ensuring that PA = LU\n",
    "print(f\"Matrix P :\\n{P}\")\n",
    "print(f\"Matrix L :\\n{L1}\")\n",
    "print(f\"Matrix U :\\n{U1}\")\n",
    "print(f\"LU :\\n{LU1}\")\n",
    "print(f\"Does PA = LU? {verify}\")"
   ]
  },
  {
   "cell_type": "markdown",
   "metadata": {
    "id": "X_4ITuoU53KF"
   },
   "source": [
    "## 6. Markov Chain (30 pts)"
   ]
  },
  {
   "cell_type": "markdown",
   "metadata": {
    "id": "X2-wBoxIWLQs"
   },
   "source": [
    "**BACKGROUND:** Consider a Markov chain transition matrix $P$ on a set of $n$ states, where $P_{i j}$ corresponds to the probability $\\left(0 \\leq P_{i j} \\leq 1\\right)$ to go from state $i$ to the state $j$, and each row is normalized so that\n",
    "$$\n",
    "\\sum_{j=1}^n P_{i j}=1 .\n",
    "$$\n",
    "\n",
    "Let $p$ be a size- $n$ vector composed of the probability distribution over the $n$ states, where\n",
    "$$\n",
    "\\sum_{j=1}^n p_j=1 .\n",
    "$$\n",
    "\n",
    "The transition rule corresponding to the transition matrix $P$ is $\\hat{p}=P^T p$, where $\\hat{p}$ corresponds to a new probability distribution and\n",
    "$$\n",
    "\\sum_{j=1}^n \\hat{p}_j=1 .\n",
    "$$\n",
    "TASK: Write a program that works with 5 states `only use the numpy library`. In particular,\n",
    "0. Fix the random seed to be the last digit of your id: `numpy.random.seed()`.\n",
    "\n",
    "1. Construct a random $5 \\times 5$ matrix $P$, and normalize each row so that\n",
    "$$\n",
    "\\sum_{j=1}^5 P_{i j}=1 .\n",
    "$$\n",
    "\n",
    "2. Construct a random size-5 vector $p$ and normalize it so that\n",
    "$$\n",
    "\\sum_{j=1}^5 p_j=1 .\n",
    "$$\n",
    "Apply the transition rule 50 times to obtain $p_{50}$.\n",
    "3. Compute the eigenvector $v$ of $P^T$ corresponding to the eigenvalue 1 (and numerically, the eigenvalue closest to $1)$, and then scale the eigenvector so that\n",
    "$$\n",
    "\\sum_{j=1}^5 v_j=1 .\n",
    "$$\n",
    "This scaled eigenvector is known as the stationary distribution.\n",
    "\n",
    "4. Compute the component wise difference between $p_{50}$ and the stationary distribution. Do they match with each other within $1 \\mathrm{e}-5$ ?\n",
    "\n",
    "HINTS: You may find the following functions useful in your implementation:\n",
    "- np.random.rand\n",
    "- np.dot\n",
    "- np.linalg.eig"
   ]
  },
  {
   "cell_type": "code",
   "execution_count": 8,
   "metadata": {},
   "outputs": [
    {
     "name": "stdout",
     "output_type": "stream",
     "text": [
      "Normalized Matrix P :\n",
      "[[0.40669174 0.15121455 0.37406429 0.01899253 0.04903689]\n",
      " [0.2378682  0.21179105 0.16741555 0.13407711 0.2488481 ]\n",
      " [0.15024016 0.25233644 0.17763642 0.19849255 0.22129442]\n",
      " [0.25239508 0.20897102 0.10531946 0.22334905 0.20996539]\n",
      " [0.01803302 0.2378947  0.26554723 0.24377701 0.23474804]]\n",
      "Normalized vector p :\n",
      "[0.24110049 0.05563527 0.42683213 0.17973501 0.09669711]\n",
      "p50 :\n",
      "[0.21496307 0.21234533 0.22298628 0.1588202  0.19088513]\n",
      "Stationary Distribution :\n",
      "[0.21496307 0.21234533 0.22298628 0.1588202  0.19088513]\n",
      "Do p50 and the stationary distribution match? True\n"
     ]
    }
   ],
   "source": [
    "import numpy as np\n",
    "\n",
    "np.random.seed(6)\n",
    "\n",
    "# Normalized random 5x5 matrix\n",
    "P = np.random.rand(5,5)\n",
    "P = P / P.sum(axis = 1)[:, np.newaxis]\n",
    "\n",
    "# Normalized random soze-5 vector\n",
    "p = np.random.rand(5)\n",
    "p = p / np.sum(p)\n",
    "\n",
    "# Transition Rule 50 times\n",
    "p_50 = p\n",
    "for times in range(50):\n",
    "    p_50 = np.dot(P.T, p_50)\n",
    "\n",
    "# Computing eigenvalues and eigenvectors of transpose of P\n",
    "eigenvalues, eigenvectors = np.linalg.eig(P.T)\n",
    "evalue = np.argmax(np.isclose(eigenvalues, 1))    # index of eigenvalue closest to 1\n",
    "v = np.real(eigenvectors[:, evalue])    # corresponding real eigenvector\n",
    "v_norm = v / np.sum(v)    # normalize to get stationary distribution\n",
    "\n",
    "# Checking to see if difference of vectors are within 1e-5 of each otehr\n",
    "diff = np.abs(p_50 - v_norm)\n",
    "match = np.all(diff < 1e-5)\n",
    "\n",
    "# Printing results and to check if p50 and the stationary distribution match\n",
    "print(f\"Normalized Matrix P :\\n{P}\")\n",
    "print(f\"Normalized vector p :\\n{p}\")\n",
    "print(f\"p50 :\\n{p_50}\")\n",
    "print(f\"Stationary Distribution :\\n{v_norm}\")\n",
    "print(f\"Do p50 and the stationary distribution match? {match}\")"
   ]
  }
 ],
 "metadata": {
  "accelerator": "GPU",
  "anaconda-cloud": {},
  "colab": {
   "collapsed_sections": [
    "KR0Fl4yAQYad",
    "U5SL2j0sqnAJ",
    "29VDnBBE5pUV",
    "uzMa1xSEwhe3",
    "YCD9beX75Yp7",
    "aCgIDqeLBPjj",
    "WqHDjQC-KLjo",
    "wzeYQOW0OCH3",
    "X_4ITuoU53KF",
    "yoMb8G9jXWcu"
   ],
   "gpuType": "T4",
   "provenance": []
  },
  "kernelspec": {
   "display_name": "Python 3 (ipykernel)",
   "language": "python",
   "name": "python3"
  },
  "language_info": {
   "codemirror_mode": {
    "name": "ipython",
    "version": 3
   },
   "file_extension": ".py",
   "mimetype": "text/x-python",
   "name": "python",
   "nbconvert_exporter": "python",
   "pygments_lexer": "ipython3",
   "version": "3.9.12"
  }
 },
 "nbformat": 4,
 "nbformat_minor": 1
}
